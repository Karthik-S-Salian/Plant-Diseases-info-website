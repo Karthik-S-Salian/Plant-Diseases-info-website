{
 "cells": [
  {
   "cell_type": "code",
   "execution_count": 2,
   "metadata": {},
   "outputs": [],
   "source": [
    "from bs4 import BeautifulSoup\n",
    "import re\n",
    "from bs4 import Tag, NavigableString\n",
    "from bs4.formatter import HTMLFormatter"
   ]
  },
  {
   "cell_type": "code",
   "execution_count": 3,
   "metadata": {},
   "outputs": [],
   "source": [
    "with open(r\"D:\\Users\\Dell\\Documents\\Web Projects\\react\\Plant Diseases\\web-scraping\\initial-extract\\vegetable crops\\mint.html\",encoding=\"UTF-8\") as fh:\n",
    "    soup=BeautifulSoup(fh.read(),\"html.parser\")"
   ]
  },
  {
   "cell_type": "code",
   "execution_count": 4,
   "metadata": {},
   "outputs": [],
   "source": [
    "d=soup.find(\"div\",{\"class\":\"col text-right\"})"
   ]
  },
  {
   "cell_type": "code",
   "execution_count": 5,
   "metadata": {},
   "outputs": [],
   "source": [
    "d.decompose()"
   ]
  },
  {
   "cell_type": "code",
   "execution_count": 6,
   "metadata": {},
   "outputs": [],
   "source": [
    "soup.find(\"div\",{\"class\":\"col text-right\"})"
   ]
  },
  {
   "cell_type": "code",
   "execution_count": 7,
   "metadata": {},
   "outputs": [],
   "source": [
    "removable=soup.find_all(\"p\")[-3:]\n",
    "removable.append(soup.find_all(\"h3\")[-1])"
   ]
  },
  {
   "cell_type": "code",
   "execution_count": 8,
   "metadata": {},
   "outputs": [],
   "source": [
    "for tag in removable:\n",
    "    tag.decompose()"
   ]
  },
  {
   "cell_type": "code",
   "execution_count": 9,
   "metadata": {},
   "outputs": [],
   "source": [
    "def update_html(soup):\n",
    "    with open(\"test.html\",\"w\",encoding=\"UTF-8\") as fh:\n",
    "        fh.write(str(soup.prettify(formatter=HTMLFormatter(indent=4))))"
   ]
  },
  {
   "cell_type": "code",
   "execution_count": 10,
   "metadata": {},
   "outputs": [],
   "source": [
    "update_html(soup)"
   ]
  },
  {
   "cell_type": "code",
   "execution_count": 11,
   "metadata": {},
   "outputs": [],
   "source": [
    "def CleanSoup(soup):\n",
    "    content=clone_soup(soup)\n",
    "    for tag in content.findAll(True): \n",
    "        if tag.name=='a':\n",
    "            if tag.attrs.get(\"name\",None):\n",
    "                tag.attrs = {\"name\":tag.attrs[\"name\"]}\n",
    "            elif tag.attrs.get(\"href\",None):\n",
    "                tag.attrs = {\"href\":tag.attrs[\"href\"]}\n",
    "            else:\n",
    "                tag.decompose()\n",
    "        elif tag.name=='img':\n",
    "            attrs=dict()\n",
    "            for prop in [\"width\",\"height\",\"alt\",\"src\"]:\n",
    "                value=tag.attrs.get(prop,None)\n",
    "                if value:\n",
    "                    attrs[prop]=value\n",
    "            tag.attrs=attrs\n",
    "        else:\n",
    "            tag.attrs = {}\n",
    "    return content"
   ]
  },
  {
   "cell_type": "code",
   "execution_count": 12,
   "metadata": {},
   "outputs": [],
   "source": [
    "def clone_soup(el):\n",
    "    if isinstance(el, NavigableString):\n",
    "        return type(el)(el)\n",
    "\n",
    "    copy = Tag(None, el.builder, el.name, el.namespace, el.nsprefix)\n",
    "    # work around bug where there is no builder set\n",
    "    # https://bugs.launchpad.net/beautifulsoup/+bug/1307471\n",
    "    copy.attrs = dict(el.attrs)\n",
    "    for attr in ('can_be_empty_element', 'hidden'):\n",
    "        setattr(copy, attr, getattr(el, attr))\n",
    "    for child in el.contents:\n",
    "        copy.append(clone_soup(child))\n",
    "    return copy"
   ]
  },
  {
   "cell_type": "code",
   "execution_count": 13,
   "metadata": {},
   "outputs": [],
   "source": [
    "update_html(CleanSoup(soup))\n",
    "soup1=CleanSoup(soup)"
   ]
  },
  {
   "cell_type": "code",
   "execution_count": 14,
   "metadata": {},
   "outputs": [],
   "source": [
    "for tag in soup1.findAll(True): \n",
    "    if tag.name=='a':\n",
    "        if tag.attrs.get(\"name\",None):\n",
    "            tag.attrs = {\"name\":tag.attrs[\"name\"]}\n",
    "            tag.insert_before(soup.new_string(\"REPLACE\"))"
   ]
  },
  {
   "cell_type": "code",
   "execution_count": 15,
   "metadata": {},
   "outputs": [],
   "source": [
    "update_html(soup1)"
   ]
  },
  {
   "cell_type": "code",
   "execution_count": 16,
   "metadata": {},
   "outputs": [],
   "source": [
    "pattern=r'REPLACE(?=<a.*?name=\"section.*?(?=a>))'"
   ]
  },
  {
   "cell_type": "code",
   "execution_count": 17,
   "metadata": {},
   "outputs": [],
   "source": [
    "new_text=re.sub(pattern,\"\\n</section>\\n<section>\\n\",str(soup1))"
   ]
  },
  {
   "cell_type": "code",
   "execution_count": 18,
   "metadata": {},
   "outputs": [],
   "source": [
    "soup2=BeautifulSoup(new_text,\"html.parser\")"
   ]
  },
  {
   "cell_type": "code",
   "execution_count": 19,
   "metadata": {},
   "outputs": [],
   "source": [
    "update_html(soup2)"
   ]
  },
  {
   "cell_type": "code",
   "execution_count": 20,
   "metadata": {},
   "outputs": [
    {
     "name": "stdout",
     "output_type": "stream",
     "text": [
      "<section>\n",
      "<a name=\"section9\"></a>\n",
      "</section>\n"
     ]
    }
   ],
   "source": [
    "last_section=soup2.find_all(\"section\")[-1]\n",
    "print(last_section)\n",
    "last_section.decompose()"
   ]
  },
  {
   "cell_type": "code",
   "execution_count": 21,
   "metadata": {},
   "outputs": [
    {
     "data": {
      "text/plain": [
       "<div></div>"
      ]
     },
     "execution_count": 21,
     "metadata": {},
     "output_type": "execute_result"
    }
   ],
   "source": [
    "soup2.div.unwrap()\n",
    "soup2.div.unwrap()"
   ]
  },
  {
   "cell_type": "code",
   "execution_count": 22,
   "metadata": {},
   "outputs": [],
   "source": [
    "update_html(soup2)"
   ]
  },
  {
   "cell_type": "code",
   "execution_count": 23,
   "metadata": {},
   "outputs": [],
   "source": [
    "for tag in soup2.div.find_all(\"div\",recursive=False):\n",
    "    tag.div.unwrap()\n"
   ]
  },
  {
   "cell_type": "code",
   "execution_count": 24,
   "metadata": {},
   "outputs": [
    {
     "data": {
      "text/plain": [
       "<div></div>"
      ]
     },
     "execution_count": 24,
     "metadata": {},
     "output_type": "execute_result"
    }
   ],
   "source": [
    "soup2.div.find_all(\"div\",recursive=False)[0].div.unwrap()"
   ]
  },
  {
   "cell_type": "code",
   "execution_count": 25,
   "metadata": {},
   "outputs": [],
   "source": [
    "soup2.div.div.name=\"section\""
   ]
  },
  {
   "cell_type": "code",
   "execution_count": 26,
   "metadata": {},
   "outputs": [],
   "source": [
    "update_html(soup2)"
   ]
  },
  {
   "cell_type": "code",
   "execution_count": 27,
   "metadata": {},
   "outputs": [],
   "source": [
    "for section in soup2.findAll(\"section\"):\n",
    "    image=section.find(\"img\")\n",
    "    if image:\n",
    "        image.attrs[\"alt\"]=image.attrs.get(\"alt\",image.find_previous(\"h3\").text)\n",
    "        parent=image.find_parent()\n",
    "        if parent.name in ['p','li']:\n",
    "            ul=image.find_previous(\"ul\")\n",
    "            ul.insert_before(image.extract())\n",
    "            if parent.text:\n",
    "                new_li=soup2.new_tag('li')\n",
    "                new_li.append(soup2.new_string(str(parent.text)))\n",
    "                ul.insert(0,new_li)\n",
    "            parent.decompose()"
   ]
  },
  {
   "cell_type": "code",
   "execution_count": 28,
   "metadata": {},
   "outputs": [],
   "source": [
    "for tag in soup2.findAll(\"strong\"):\n",
    "    tag.name=\"h4\""
   ]
  },
  {
   "cell_type": "code",
   "execution_count": 29,
   "metadata": {},
   "outputs": [],
   "source": [
    "update_html(soup2)"
   ]
  },
  {
   "cell_type": "code",
   "execution_count": 30,
   "metadata": {},
   "outputs": [],
   "source": [
    "def get_next_tag(soup):\n",
    "    next_ele=soup\n",
    "    while next_ele is not None:\n",
    "        next_ele=next_ele.next_element\n",
    "        if isinstance(next_ele,Tag):\n",
    "            return next_ele\n",
    "    return None"
   ]
  },
  {
   "cell_type": "code",
   "execution_count": 31,
   "metadata": {},
   "outputs": [],
   "source": [
    "def get_previous_tag(soup):\n",
    "    next_ele=soup\n",
    "    while next_ele is not None:\n",
    "        next_ele=next_ele.previous_element\n",
    "        if isinstance(next_ele,Tag):\n",
    "            return next_ele\n",
    "    return None"
   ]
  },
  {
   "cell_type": "code",
   "execution_count": 32,
   "metadata": {},
   "outputs": [],
   "source": [
    "# soup2.select(\"section ul + *\")  # using css selectors"
   ]
  },
  {
   "cell_type": "code",
   "execution_count": 33,
   "metadata": {},
   "outputs": [],
   "source": [
    "for li in soup2.findAll(\"li\"):\n",
    "    for h4 in li.find_all(\"h4\"):\n",
    "        h4.extract()\n",
    "        li.string=str(h4.text+\" \"+li.text)     "
   ]
  },
  {
   "cell_type": "code",
   "execution_count": 34,
   "metadata": {},
   "outputs": [],
   "source": [
    "update_html(soup2)"
   ]
  },
  {
   "cell_type": "code",
   "execution_count": 35,
   "metadata": {},
   "outputs": [],
   "source": [
    "soup3=clone_soup(soup2)"
   ]
  },
  {
   "cell_type": "code",
   "execution_count": 36,
   "metadata": {},
   "outputs": [],
   "source": [
    "update_html(soup3)"
   ]
  },
  {
   "cell_type": "code",
   "execution_count": 37,
   "metadata": {},
   "outputs": [],
   "source": [
    "main_dict={}\n",
    "for section in soup3.findAll(\"section\")[1:]:\n",
    "    disease=str(section.find(\"h3\").text)\n",
    "    d=dict()\n",
    "    for h4 in section.findAll(\"h4\"):\n",
    "        content={}\n",
    "        next_ele=get_next_tag(h4)\n",
    "        if next_ele.name==\"img\":\n",
    "            content[\"img\"]={\n",
    "                \"src\":next_ele.attrs[\"src\"],\n",
    "                \"alt\":next_ele.attrs.get(\"alt\",disease)\n",
    "            }\n",
    "            next_ele=get_next_tag(next_ele)\n",
    "        if next_ele.name==\"ul\":\n",
    "            content[\"content\"]=list(map(lambda x:x.text,next_ele.find_all(\"li\")))\n",
    "        d[str(h4.text)]=content\n",
    "\n",
    "    main_dict[disease]=d     "
   ]
  },
  {
   "cell_type": "code",
   "execution_count": 38,
   "metadata": {},
   "outputs": [],
   "source": [
    "for tag in soup3.findAll([\"h4\",\"ul\"]):\n",
    "        while not tag.parent.name == \"section\":\n",
    "            tag.parent.unwrap()"
   ]
  },
  {
   "cell_type": "code",
   "execution_count": 39,
   "metadata": {},
   "outputs": [],
   "source": [
    "import json\n",
    "json_object = json.dumps(main_dict, indent = 4) "
   ]
  }
 ],
 "metadata": {
  "kernelspec": {
   "display_name": "Python 3",
   "language": "python",
   "name": "python3"
  },
  "language_info": {
   "codemirror_mode": {
    "name": "ipython",
    "version": 3
   },
   "file_extension": ".py",
   "mimetype": "text/x-python",
   "name": "python",
   "nbconvert_exporter": "python",
   "pygments_lexer": "ipython3",
   "version": "3.10.9"
  },
  "orig_nbformat": 4
 },
 "nbformat": 4,
 "nbformat_minor": 2
}
